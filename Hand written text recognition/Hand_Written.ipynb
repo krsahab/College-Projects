{
 "metadata": {
  "language_info": {
   "codemirror_mode": {
    "name": "ipython",
    "version": 3
   },
   "file_extension": ".py",
   "mimetype": "text/x-python",
   "name": "python",
   "nbconvert_exporter": "python",
   "pygments_lexer": "ipython3",
   "version": "3.8.6"
  },
  "orig_nbformat": 2,
  "kernelspec": {
   "name": "python386jvsc74a57bd0916dbcbb3f70747c44a77c7bcd40155683ae19c65e1c03b4aa3499c5328201f1",
   "display_name": "Python 3.8.6 64-bit"
  },
  "metadata": {
   "interpreter": {
    "hash": "916dbcbb3f70747c44a77c7bcd40155683ae19c65e1c03b4aa3499c5328201f1"
   }
  }
 },
 "nbformat": 4,
 "nbformat_minor": 2,
 "cells": [
  {
   "cell_type": "code",
   "execution_count": 1,
   "metadata": {},
   "outputs": [],
   "source": [
    "import numpy as np\n",
    "from tensorflow import keras\n",
    "from tensorflow.keras import layers\n",
    "from tensorflow.keras.datasets import mnist"
   ]
  },
  {
   "cell_type": "code",
   "execution_count": 2,
   "metadata": {},
   "outputs": [
    {
     "output_type": "stream",
     "name": "stdout",
     "text": [
      "(60000, 28, 28) (60000,)\n"
     ]
    }
   ],
   "source": [
    "(x_train, y_train), (x_test, y_test) = mnist.load_data()\n",
    "print(x_train.shape, y_train.shape)"
   ]
  },
  {
   "cell_type": "code",
   "execution_count": 3,
   "metadata": {},
   "outputs": [],
   "source": [
    "y_train = keras.utils.to_categorical(y_train, 10)\n",
    "y_test = keras.utils.to_categorical(y_test, 10)"
   ]
  },
  {
   "cell_type": "code",
   "execution_count": 4,
   "metadata": {},
   "outputs": [],
   "source": [
    "model = keras.Sequential(\n",
    "    [\n",
    "        keras.Input(shape=(28, 28)),\n",
    "        layers.Flatten(),\n",
    "        layers.Dense(32, activation = 'sigmoid'),\n",
    "        layers.Dense(64, activation = 'sigmoid'),\n",
    "        layers.Dense(10, activation = 'softmax')\n",
    "    ]\n",
    ")"
   ]
  },
  {
   "cell_type": "code",
   "execution_count": 5,
   "metadata": {},
   "outputs": [],
   "source": [
    "model.compile(loss=keras.losses.CategoricalCrossentropy(), metrics=['accuracy'], optimizer='adam')"
   ]
  },
  {
   "cell_type": "code",
   "execution_count": 6,
   "metadata": {},
   "outputs": [
    {
     "output_type": "stream",
     "name": "stdout",
     "text": [
      "Epoch 1/20\n",
      "469/469 [==============================] - 3s 3ms/step - loss: 1.6772 - accuracy: 0.5418 - val_loss: 0.6013 - val_accuracy: 0.8514\n",
      "Epoch 2/20\n",
      "469/469 [==============================] - 1s 2ms/step - loss: 0.5480 - accuracy: 0.8551 - val_loss: 0.4089 - val_accuracy: 0.8858\n",
      "Epoch 3/20\n",
      "469/469 [==============================] - 1s 2ms/step - loss: 0.4081 - accuracy: 0.8785 - val_loss: 0.3545 - val_accuracy: 0.8949\n",
      "Epoch 4/20\n",
      "469/469 [==============================] - 1s 2ms/step - loss: 0.3650 - accuracy: 0.8910 - val_loss: 0.3687 - val_accuracy: 0.8929\n",
      "Epoch 5/20\n",
      "469/469 [==============================] - 1s 2ms/step - loss: 0.3551 - accuracy: 0.8942 - val_loss: 0.3410 - val_accuracy: 0.8981\n",
      "Epoch 6/20\n",
      "469/469 [==============================] - 1s 2ms/step - loss: 0.3369 - accuracy: 0.8984 - val_loss: 0.3394 - val_accuracy: 0.8985\n",
      "Epoch 7/20\n",
      "469/469 [==============================] - 1s 2ms/step - loss: 0.3222 - accuracy: 0.9031 - val_loss: 0.3028 - val_accuracy: 0.9088\n",
      "Epoch 8/20\n",
      "469/469 [==============================] - 1s 3ms/step - loss: 0.2982 - accuracy: 0.9094 - val_loss: 0.3054 - val_accuracy: 0.9070\n",
      "Epoch 9/20\n",
      "469/469 [==============================] - 1s 3ms/step - loss: 0.3025 - accuracy: 0.9080 - val_loss: 0.2661 - val_accuracy: 0.9202\n",
      "Epoch 10/20\n",
      "469/469 [==============================] - 1s 3ms/step - loss: 0.2664 - accuracy: 0.9166 - val_loss: 0.2848 - val_accuracy: 0.9126\n",
      "Epoch 11/20\n",
      "469/469 [==============================] - 1s 2ms/step - loss: 0.2819 - accuracy: 0.9133 - val_loss: 0.2881 - val_accuracy: 0.9131\n",
      "Epoch 12/20\n",
      "469/469 [==============================] - 1s 3ms/step - loss: 0.2791 - accuracy: 0.9151 - val_loss: 0.2666 - val_accuracy: 0.9197\n",
      "Epoch 13/20\n",
      "469/469 [==============================] - 1s 3ms/step - loss: 0.2794 - accuracy: 0.9136 - val_loss: 0.2682 - val_accuracy: 0.9211\n",
      "Epoch 14/20\n",
      "469/469 [==============================] - 1s 3ms/step - loss: 0.2548 - accuracy: 0.9199 - val_loss: 0.2532 - val_accuracy: 0.9245\n",
      "Epoch 15/20\n",
      "469/469 [==============================] - 1s 3ms/step - loss: 0.2467 - accuracy: 0.9262 - val_loss: 0.2533 - val_accuracy: 0.9227\n",
      "Epoch 16/20\n",
      "469/469 [==============================] - 1s 3ms/step - loss: 0.2367 - accuracy: 0.9276 - val_loss: 0.2573 - val_accuracy: 0.9222\n",
      "Epoch 17/20\n",
      "469/469 [==============================] - 1s 3ms/step - loss: 0.2484 - accuracy: 0.9253 - val_loss: 0.2687 - val_accuracy: 0.9221\n",
      "Epoch 18/20\n",
      "469/469 [==============================] - 1s 3ms/step - loss: 0.2414 - accuracy: 0.9266 - val_loss: 0.2458 - val_accuracy: 0.9265\n",
      "Epoch 19/20\n",
      "469/469 [==============================] - 2s 3ms/step - loss: 0.2334 - accuracy: 0.9299 - val_loss: 0.2603 - val_accuracy: 0.9209\n",
      "Epoch 20/20\n",
      "469/469 [==============================] - 1s 3ms/step - loss: 0.2463 - accuracy: 0.9249 - val_loss: 0.2467 - val_accuracy: 0.9267\n"
     ]
    },
    {
     "output_type": "execute_result",
     "data": {
      "text/plain": [
       "<tensorflow.python.keras.callbacks.History at 0x7f81343700a0>"
      ]
     },
     "metadata": {},
     "execution_count": 6
    }
   ],
   "source": [
    "model.fit(x_train, y_train, batch_size=128, epochs=20, validation_data=(x_test, y_test))"
   ]
  },
  {
   "cell_type": "code",
   "execution_count": null,
   "metadata": {},
   "outputs": [],
   "source": []
  }
 ]
}