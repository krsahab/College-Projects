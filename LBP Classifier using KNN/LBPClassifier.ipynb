{
 "metadata": {
  "language_info": {
   "codemirror_mode": {
    "name": "ipython",
    "version": 3
   },
   "file_extension": ".py",
   "mimetype": "text/x-python",
   "name": "python",
   "nbconvert_exporter": "python",
   "pygments_lexer": "ipython3",
   "version": "3.8.6-final"
  },
  "orig_nbformat": 2,
  "kernelspec": {
   "name": "python3",
   "display_name": "Python 3.8.6 64-bit",
   "metadata": {
    "interpreter": {
     "hash": "31f2aee4e71d21fbe5cf8b01ff0e069b9275f58929596ceb00d14d90e3e16cd6"
    }
   }
  }
 },
 "nbformat": 4,
 "nbformat_minor": 2,
 "cells": [
  {
   "cell_type": "code",
   "execution_count": 220,
   "metadata": {},
   "outputs": [],
   "source": [
    "import numpy as np\n",
    "import matplotlib.pyplot as plt\n",
    "from skimage import feature\n",
    "from sklearn.model_selection import train_test_split\n",
    "import os\n",
    "from collections import Counter"
   ]
  },
  {
   "source": [
    "Manual KNN Classification using LBP"
   ],
   "cell_type": "markdown",
   "metadata": {}
  },
  {
   "cell_type": "code",
   "execution_count": 221,
   "metadata": {},
   "outputs": [],
   "source": [
    "#Convert RGB to Grayscale image\n",
    "def rgb2greyscale(img):\n",
    "    return np.dot(img[...,:3], [0.299, 0.587, 0.114])"
   ]
  },
  {
   "cell_type": "code",
   "execution_count": 222,
   "metadata": {},
   "outputs": [],
   "source": [
    "#Create LBP response\n",
    "def LBPResponse(image):\n",
    "    X = [-1, -1, -1, 0, 0, 1, 1, 1]\n",
    "    Y = [-1, 0, 1, -1, 1, -1, 0, 1]\n",
    "    kernal = np.array([1, 2, 4, 128, 8, 64, 32, 16])\n",
    "    new_image = []\n",
    "    for i in range(1, image.shape[0]-1):\n",
    "        temp_op = []\n",
    "        for j in range(1, image.shape[1]-1):\n",
    "            temp_arr = []\n",
    "            for k in range(8):\n",
    "                temp_arr.append(0 if image[i+X[k],j+Y[k]]<image[i,j] else 1)\n",
    "            temp_op.append(np.dot(kernal, temp_arr))\n",
    "        new_image.append(temp_op)\n",
    "    return np.asarray(new_image, dtype=np.uint8)"
   ]
  },
  {
   "cell_type": "code",
   "execution_count": 223,
   "metadata": {},
   "outputs": [],
   "source": [
    "#Create Manual Histogram\n",
    "def createHistogram(img):\n",
    "    output = np.zeros(256, dtype=int)\n",
    "    for i in img:\n",
    "        output[i]+=1\n",
    "    return output"
   ]
  },
  {
   "cell_type": "code",
   "execution_count": 224,
   "metadata": {},
   "outputs": [],
   "source": [
    "#Process data(Read all images, Convert to Grayscale, Create LBP response, Find histogram, Store with corrresponding labels)\n",
    "data = []\n",
    "for item in os.listdir('shapes'):\n",
    "    for image in os.listdir(f'shapes/{item}'):\n",
    "        img = plt.imread(f'shapes/{item}/{image}')\n",
    "        img = rgb2greyscale(img)\n",
    "        img = LBPResponse(img)\n",
    "        hist = createHistogram(img)\n",
    "        data.append([hist, item])\n",
    "np.random.shuffle(data)"
   ]
  },
  {
   "cell_type": "code",
   "execution_count": 225,
   "metadata": {},
   "outputs": [
    {
     "output_type": "stream",
     "name": "stdout",
     "text": [
      "[array([ 0,  0,  0,  0,  0,  0,  0,  1,  0,  0,  0,  0,  1,  0,  0,  3,  0,\n        0,  0,  0,  0,  0,  0,  0,  0,  0,  0,  0,  0,  0,  1,  1,  0,  0,\n        0,  0,  0,  0,  0,  0,  0,  0,  0,  0,  0,  0,  0,  0,  0,  0,  0,\n        0,  0,  0,  0,  0,  1,  1,  0,  0, 14,  3,  4,  1,  1,  0,  0,  0,\n        0,  0,  0,  1,  0,  0,  0,  0,  0,  0,  0,  1,  0,  0,  0,  0,  0,\n        0,  0,  0,  0,  0,  0,  0,  0,  0,  0,  0,  2,  0,  0,  0,  0,  0,\n        0,  0,  0,  0,  0,  0,  0,  0,  0,  1,  0,  0,  0,  0,  0,  0,  0,\n        0,  7,  3,  0,  4,  5,  0,  5,  1,  0,  0,  0,  1,  0,  0,  0, 10,\n        0,  0,  0,  0,  0,  0,  0,  4,  0,  0,  0,  1,  0,  0,  0,  5,  0,\n        0,  0,  0,  0,  0,  0,  3,  0,  0,  0,  0,  0,  0,  0,  0,  0,  0,\n        0,  0,  0,  0,  0,  1,  0,  0,  0,  0,  0,  0,  0,  2,  0,  0,  0,\n        0,  0,  4,  0,  6,  0,  0,  2,  9,  0,  0,  0,  6,  0,  0,  0,  0,\n        0,  0,  0,  6,  0,  0,  0,  3,  0,  0,  0,  0,  1,  0,  0,  2,  0,\n        0,  0,  0,  1,  1,  0,  3,  0,  0,  0,  3,  0,  0,  0,  0,  0,  1,\n        0, 14,  5,  3,  0,  1,  2,  1,  1,  3,  2,  4,  0,  8,  5,  0, 11,\n       26]), 'triangles']\n"
     ]
    }
   ],
   "source": [
    "print(data[0])"
   ]
  },
  {
   "cell_type": "code",
   "execution_count": 226,
   "metadata": {
    "tags": []
   },
   "outputs": [
    {
     "output_type": "stream",
     "name": "stdout",
     "text": [
      "(285, 256) (285,) (15, 256) (15,)\n"
     ]
    }
   ],
   "source": [
    "#Test Train Split (Test - 5%)\n",
    "X_train, X_test, Y_train, Y_test = train_test_split(np.asarray([row[0] for row in data]), np.asarray([row[1] for row in data]), test_size=0.05)\n",
    "print(X_train.shape, Y_train.shape, X_test.shape, Y_test.shape)"
   ]
  },
  {
   "cell_type": "code",
   "execution_count": 227,
   "metadata": {},
   "outputs": [
    {
     "output_type": "stream",
     "name": "stdout",
     "text": [
      "Accuracy : 0.8666666666666667\n"
     ]
    }
   ],
   "source": [
    "#Prediction based on k nearest neighbor\n",
    "k = 20\n",
    "accurate = 0\n",
    "for test_data, value in zip(X_test, Y_test):\n",
    "    top_k = np.argsort(np.sqrt(np.sum(np.square(X_train-test_data), axis=1)))[0:k]\n",
    "    result = Counter(Y_train[top_k])\n",
    "    if(value == max(result, key=result.get)):\n",
    "        accurate += 1\n",
    "print(f'Accuracy : {accurate/X_test.shape[0]}')"
   ]
  },
  {
   "source": [
    "KNN Classification with LBP using feature from skimage and numpy histogram"
   ],
   "cell_type": "markdown",
   "metadata": {}
  },
  {
   "cell_type": "code",
   "execution_count": 228,
   "metadata": {},
   "outputs": [],
   "source": [
    "data = []\n",
    "for item in os.listdir('shapes'):\n",
    "    for image in os.listdir(f'shapes/{item}'):\n",
    "        img = plt.imread(f'shapes/{item}/{image}')\n",
    "        img = rgb2greyscale(img)\n",
    "        lbp = feature.local_binary_pattern(img, 8, 1, method=\"uniform\")\n",
    "        (hist, _) = np.histogram(lbp.ravel(), bins=np.arange(0, 8 + 3), range=(0, 8 + 2))\n",
    "        data.append([hist, item])\n",
    "np.random.shuffle(data)"
   ]
  },
  {
   "cell_type": "code",
   "execution_count": 229,
   "metadata": {},
   "outputs": [
    {
     "output_type": "stream",
     "name": "stdout",
     "text": [
      "[array([  0,   0,   0,  12,  41,  24,   2,  28,  13, 664]), 'squares']\n"
     ]
    }
   ],
   "source": [
    "print(data[0])"
   ]
  },
  {
   "cell_type": "code",
   "execution_count": 230,
   "metadata": {},
   "outputs": [
    {
     "output_type": "stream",
     "name": "stdout",
     "text": [
      "(285, 10) (285,) (15, 10) (15,)\n"
     ]
    }
   ],
   "source": [
    "X_train, X_test, Y_train, Y_test = train_test_split(np.asarray([row[0] for row in data]), np.asarray([row[1] for row in data]), test_size=0.05)\n",
    "print(X_train.shape, Y_train.shape, X_test.shape, Y_test.shape)"
   ]
  },
  {
   "cell_type": "code",
   "execution_count": 231,
   "metadata": {},
   "outputs": [
    {
     "output_type": "stream",
     "name": "stdout",
     "text": [
      "Accuracy : 0.8666666666666667\n"
     ]
    }
   ],
   "source": [
    "#Prediction based on k nearest neighbor\n",
    "k = 20\n",
    "accurate = 0\n",
    "for test_data, value in zip(X_test, Y_test):\n",
    "    top_k = np.argsort(np.sqrt(np.sum(np.square(X_train-test_data), axis=1)))[0:k]\n",
    "    result = Counter(Y_train[top_k])\n",
    "    if(value == max(result, key=result.get)):\n",
    "        accurate += 1\n",
    "print(f'Accuracy : {accurate/X_test.shape[0]}')"
   ]
  }
 ]
}