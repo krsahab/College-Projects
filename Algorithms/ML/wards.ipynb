{
 "metadata": {
  "language_info": {
   "codemirror_mode": {
    "name": "ipython",
    "version": 3
   },
   "file_extension": ".py",
   "mimetype": "text/x-python",
   "name": "python",
   "nbconvert_exporter": "python",
   "pygments_lexer": "ipython3",
   "version": "3.8.6-final"
  },
  "orig_nbformat": 2,
  "kernelspec": {
   "name": "python3",
   "display_name": "Python 3.8.6 64-bit",
   "metadata": {
    "interpreter": {
     "hash": "1baa965d5efe3ac65b79dfc60c0d706280b1da80fedb7760faf2759126c4f253"
    }
   }
  }
 },
 "nbformat": 4,
 "nbformat_minor": 2,
 "cells": [
  {
   "cell_type": "code",
   "execution_count": null,
   "metadata": {},
   "outputs": [],
   "source": [
    "import math\n",
    "points = [[1,2], [3,4], [5,6], [7,8], [9,10]]"
   ]
  },
  {
   "cell_type": "code",
   "execution_count": null,
   "metadata": {},
   "outputs": [],
   "source": [
    "def calMean(x):\n",
    "    mean = []\n",
    "    for i in range(len(points[0])):\n",
    "        sumTotal = 0\n",
    "        for j in x:\n",
    "            sumTotal += points[j][i]\n",
    "        mean.append(sumTotal/len(x))\n",
    "    return mean"
   ]
  },
  {
   "cell_type": "code",
   "execution_count": null,
   "metadata": {},
   "outputs": [],
   "source": [
    "def sqError(x):\n",
    "    mean = calMean(x)\n",
    "    sumTotal = 0\n",
    "    for i in range(len(mean)):\n",
    "        for j in x:\n",
    "            sumTotal += math.pow((points[j][i]-mean[i]),2)\n",
    "    return sumTotal"
   ]
  },
  {
   "cell_type": "code",
   "execution_count": null,
   "metadata": {},
   "outputs": [],
   "source": [
    "def totalSQError(x):\n",
    "    totalError = 0\n",
    "    for item in x:\n",
    "        totalError += sqError(item)\n",
    "    return totalError"
   ]
  },
  {
   "cell_type": "code",
   "execution_count": null,
   "metadata": {},
   "outputs": [],
   "source": [
    "from copy import deepcopy\n",
    "def leastErrorSet(x):\n",
    "    res = 0, 0\n",
    "    error = math.inf\n",
    "    for i in range(len(x)-1):\n",
    "        for j in range(i+1,len(x)):\n",
    "            templist = deepcopy(x)\n",
    "            templist.remove(x[j])\n",
    "            templist[i].extend(x[j])\n",
    "            tempError = totalSQError(templist)\n",
    "            print(templist,tempError)\n",
    "            if error>tempError:\n",
    "                error = tempError\n",
    "                res = i, j\n",
    "    return res"
   ]
  },
  {
   "cell_type": "code",
   "execution_count": null,
   "metadata": {},
   "outputs": [],
   "source": [
    "print(leastErrorSet([[0], [1], [2], [3], [4]]))"
   ]
  }
 ]
}