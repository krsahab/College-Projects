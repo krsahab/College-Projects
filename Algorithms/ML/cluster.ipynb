{
 "metadata": {
  "language_info": {
   "codemirror_mode": {
    "name": "ipython",
    "version": 3
   },
   "file_extension": ".py",
   "mimetype": "text/x-python",
   "name": "python",
   "nbconvert_exporter": "python",
   "pygments_lexer": "ipython3",
   "version": "3.8.6-final"
  },
  "orig_nbformat": 2,
  "kernelspec": {
   "name": "python3",
   "display_name": "Python 3.8.6 64-bit",
   "metadata": {
    "interpreter": {
     "hash": "1baa965d5efe3ac65b79dfc60c0d706280b1da80fedb7760faf2759126c4f253"
    }
   }
  }
 },
 "nbformat": 4,
 "nbformat_minor": 2,
 "cells": [
  {
   "cell_type": "code",
   "execution_count": null,
   "metadata": {},
   "outputs": [],
   "source": [
    "import math\n",
    "points = [[4,4], [8,4], [14,8], [24,4], [24,12]]"
   ]
  },
  {
   "cell_type": "code",
   "execution_count": null,
   "metadata": {},
   "outputs": [],
   "source": [
    "def calDist(p1, p2):\n",
    "    return abs(points[p1][0]-points[p2][0])+abs(points[p1][1]-points[p2][1])"
   ]
  },
  {
   "cell_type": "code",
   "execution_count": null,
   "metadata": {},
   "outputs": [],
   "source": [
    "#change logic for single Linkage/Min Distance or Average Distance\n",
    "def findmaxDistance(set1, set2):\n",
    "    res = 0\n",
    "    for s1 in set1:\n",
    "        for s2 in set2:\n",
    "            dist = calDist(s1, s2)\n",
    "            if dist>res:\n",
    "                res = dist\n",
    "    return res"
   ]
  },
  {
   "cell_type": "code",
   "execution_count": null,
   "metadata": {},
   "outputs": [],
   "source": [
    "def findCluser(pointsList):\n",
    "    res = 10000\n",
    "    for i in range(len(pointsList)-1):\n",
    "        for j in range(i+1, len(pointsList)):\n",
    "            dist = findmaxDistance(pointsList[i], pointsList[j])\n",
    "            print(i, j, dist)\n",
    "            if dist<res:\n",
    "                res = dist\n",
    "                nextMerge = i, j\n",
    "    return nextMerge"
   ]
  },
  {
   "cell_type": "code",
   "execution_count": null,
   "metadata": {},
   "outputs": [],
   "source": [
    "clusters = [[0],[1],[2],[3],[4]]\n",
    "print(findCluser(clusters))"
   ]
  }
 ]
}