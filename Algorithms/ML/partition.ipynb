{
 "metadata": {
  "language_info": {
   "codemirror_mode": {
    "name": "ipython",
    "version": 3
   },
   "file_extension": ".py",
   "mimetype": "text/x-python",
   "name": "python",
   "nbconvert_exporter": "python",
   "pygments_lexer": "ipython3",
   "version": "3.8.6-final"
  },
  "orig_nbformat": 2,
  "kernelspec": {
   "name": "python3",
   "display_name": "Python 3.8.6 64-bit",
   "metadata": {
    "interpreter": {
     "hash": "1baa965d5efe3ac65b79dfc60c0d706280b1da80fedb7760faf2759126c4f253"
    }
   }
  }
 },
 "nbformat": 4,
 "nbformat_minor": 2,
 "cells": [
  {
   "cell_type": "code",
   "execution_count": null,
   "metadata": {},
   "outputs": [],
   "source": [
    "import math\n",
    "points = [[4,4], [8,4], [14,8], [24,4], [24,12]]"
   ]
  },
  {
   "cell_type": "code",
   "execution_count": null,
   "metadata": {},
   "outputs": [],
   "source": [
    "def centroid(x):\n",
    "    cen  = []\n",
    "    for i in range(len(points[0])):\n",
    "        sumTotal = 0\n",
    "        for j in x:\n",
    "            sumTotal += points[j][i]\n",
    "        cen.append(sumTotal/len(x))\n",
    "    return cen"
   ]
  },
  {
   "cell_type": "code",
   "execution_count": null,
   "metadata": {},
   "outputs": [],
   "source": [
    "def distance(x, y):\n",
    "    dist = 0\n",
    "    for i in range(len(x)):\n",
    "        dist += abs(x[i]-y[i])\n",
    "    return dist"
   ]
  },
  {
   "cell_type": "code",
   "execution_count": null,
   "metadata": {},
   "outputs": [],
   "source": [
    "def nearestCluster(x, y):\n",
    "    minDistance = math.inf\n",
    "    res = 0\n",
    "    for item in range(len(y)):\n",
    "        dist = distance(x, y[item])\n",
    "        if dist<minDistance:\n",
    "            minDistance = dist\n",
    "            res = item\n",
    "    return res;"
   ]
  },
  {
   "cell_type": "code",
   "execution_count": null,
   "metadata": {},
   "outputs": [],
   "source": [
    "def calClusterCentroid(x):\n",
    "    clusterCentroid = []\n",
    "    for item in x:\n",
    "        clusterCentroid.append(centroid(item))\n",
    "    return clusterCentroid"
   ]
  },
  {
   "cell_type": "code",
   "execution_count": null,
   "metadata": {},
   "outputs": [],
   "source": [
    "cluster = [[0,1,2], [3,4]]\n",
    "clusterCentroid = calClusterCentroid(cluster)\n",
    "print(clusterCentroid)\n",
    "for item in points:\n",
    "    print(item, nearestCluster(item, clusterCentroid))"
   ]
  },
  {
   "cell_type": "code",
   "execution_count": null,
   "metadata": {},
   "outputs": [],
   "source": [
    "#K-Means Forgy's Algo\n",
    "cluster = [[0], [4]]\n",
    "clusterCentroid = calClusterCentroid(cluster)\n",
    "print(cluster,clusterCentroid)\n",
    "#while there is some cluster change, clear cluster in every iteration. Don't recompute centroid in check iteration\n",
    "for i in range(len(points)):\n",
    "    clusterNo = nearestCluster(points[i], clusterCentroid)\n",
    "    if i not in cluster[clusterNo]:\n",
    "        cluster[clusterNo].append(i)\n",
    "        clusterCentroid[clusterNo] = centroid(cluster[clusterNo])\n",
    "        print(cluster,clusterCentroid)"
   ]
  },
  {
   "cell_type": "code",
   "execution_count": null,
   "metadata": {},
   "outputs": [],
   "source": []
  }
 ]
}